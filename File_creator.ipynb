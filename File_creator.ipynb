{
 "cells": [
  {
   "cell_type": "code",
   "execution_count": 24,
   "metadata": {},
   "outputs": [],
   "source": [
    "import os"
   ]
  },
  {
   "cell_type": "code",
   "execution_count": 25,
   "metadata": {},
   "outputs": [],
   "source": [
    "def parse_file(path):\n",
    "    with open(path, 'r') as f:\n",
    "        content = f.read()\n",
    "\n",
    "    code = content.split(' COM:')[0].split('TDAT:')[1].strip()\n",
    "    comment = content.split(' COM:')[1].replace('<s>','').replace('</s>','').strip()\n",
    "    return code, comment"
   ]
  },
  {
   "cell_type": "code",
   "execution_count": 26,
   "metadata": {},
   "outputs": [],
   "source": [
    "# Get all text files on a directory\n",
    "def get_text_files(directory):\n",
    "    text_files = []\n",
    "    for root, dirs, files in os.walk(directory):\n",
    "        for file in files:\n",
    "            if file.endswith(\".txt\"):\n",
    "                code, comment = parse_file(os.path.join(root, file))\n",
    "                text_files.append([os.path.join(root, file), code, comment])\n",
    "    return text_files\n"
   ]
  },
  {
   "cell_type": "code",
   "execution_count": 27,
   "metadata": {},
   "outputs": [],
   "source": [
    "test_data = get_text_files(\"./Dataset/funcom_test/\")\n",
    "train_data = get_text_files(\"./Dataset/funcom_train/\")\n",
    "valid_data = get_text_files(\"./Dataset/funcom_val/\")"
   ]
  },
  {
   "cell_type": "code",
   "execution_count": 32,
   "metadata": {},
   "outputs": [],
   "source": [
    "import pandas as pd"
   ]
  },
  {
   "cell_type": "code",
   "execution_count": 29,
   "metadata": {},
   "outputs": [],
   "source": [
    "df = pd.DataFrame(train_data, columns=['path', 'code', 'comment'])\n",
    "df.to_csv('train.csv', index=False)"
   ]
  },
  {
   "cell_type": "code",
   "execution_count": 30,
   "metadata": {},
   "outputs": [],
   "source": [
    "df = pd.DataFrame(test_data, columns=['path', 'code', 'comment'])\n",
    "df.to_csv('test.csv', index=False)"
   ]
  },
  {
   "cell_type": "code",
   "execution_count": 31,
   "metadata": {},
   "outputs": [],
   "source": [
    "df = pd.DataFrame(valid_data, columns=['path', 'code', 'comment'])\n",
    "df.to_csv('valid.csv', index=False)"
   ]
  },
  {
   "cell_type": "code",
   "execution_count": 34,
   "metadata": {},
   "outputs": [
    {
     "data": {
      "text/html": [
       "<div>\n",
       "<style scoped>\n",
       "    .dataframe tbody tr th:only-of-type {\n",
       "        vertical-align: middle;\n",
       "    }\n",
       "\n",
       "    .dataframe tbody tr th {\n",
       "        vertical-align: top;\n",
       "    }\n",
       "\n",
       "    .dataframe thead th {\n",
       "        text-align: right;\n",
       "    }\n",
       "</style>\n",
       "<table border=\"1\" class=\"dataframe\">\n",
       "  <thead>\n",
       "    <tr style=\"text-align: right;\">\n",
       "      <th></th>\n",
       "      <th>path</th>\n",
       "      <th>code</th>\n",
       "      <th>comment</th>\n",
       "    </tr>\n",
       "  </thead>\n",
       "  <tbody>\n",
       "    <tr>\n",
       "      <th>0</th>\n",
       "      <td>./Dataset/funcom_test/33994080.txt</td>\n",
       "      <td>protected void addServiceIDPropertyDescriptor(...</td>\n",
       "      <td>this adds a property descriptor for the servic...</td>\n",
       "    </tr>\n",
       "    <tr>\n",
       "      <th>1</th>\n",
       "      <td>./Dataset/funcom_test/45005018.txt</td>\n",
       "      <td>public Auth authenticate(MWChatClient client, ...</td>\n",
       "      <td>handles username conflicts by appending intege...</td>\n",
       "    </tr>\n",
       "    <tr>\n",
       "      <th>2</th>\n",
       "      <td>./Dataset/funcom_test/50038649.txt</td>\n",
       "      <td>private void setStatsImplementation(Statistics...</td>\n",
       "      <td>since we do not have any set statistics in hib...</td>\n",
       "    </tr>\n",
       "    <tr>\n",
       "      <th>3</th>\n",
       "      <td>./Dataset/funcom_test/7483700.txt</td>\n",
       "      <td>public String getBody(String language) {\\n    ...</td>\n",
       "      <td>returns the body corresponding to the language</td>\n",
       "    </tr>\n",
       "    <tr>\n",
       "      <th>4</th>\n",
       "      <td>./Dataset/funcom_test/25994000.txt</td>\n",
       "      <td>public long addToken(String token, String toke...</td>\n",
       "      <td>add token for current login</td>\n",
       "    </tr>\n",
       "  </tbody>\n",
       "</table>\n",
       "</div>"
      ],
      "text/plain": [
       "                                 path  \\\n",
       "0  ./Dataset/funcom_test/33994080.txt   \n",
       "1  ./Dataset/funcom_test/45005018.txt   \n",
       "2  ./Dataset/funcom_test/50038649.txt   \n",
       "3   ./Dataset/funcom_test/7483700.txt   \n",
       "4  ./Dataset/funcom_test/25994000.txt   \n",
       "\n",
       "                                                code  \\\n",
       "0  protected void addServiceIDPropertyDescriptor(...   \n",
       "1  public Auth authenticate(MWChatClient client, ...   \n",
       "2  private void setStatsImplementation(Statistics...   \n",
       "3  public String getBody(String language) {\\n    ...   \n",
       "4  public long addToken(String token, String toke...   \n",
       "\n",
       "                                             comment  \n",
       "0  this adds a property descriptor for the servic...  \n",
       "1  handles username conflicts by appending intege...  \n",
       "2  since we do not have any set statistics in hib...  \n",
       "3     returns the body corresponding to the language  \n",
       "4                        add token for current login  "
      ]
     },
     "execution_count": 34,
     "metadata": {},
     "output_type": "execute_result"
    }
   ],
   "source": [
    "df = pd.read_csv('test.csv')\n",
    "df.head()"
   ]
  },
  {
   "cell_type": "code",
   "execution_count": 35,
   "metadata": {},
   "outputs": [],
   "source": [
    "data = []\n",
    "for index, row in df.iterrows():\n",
    "    data.append({\n",
    "        'path': row['path'],\n",
    "        'code': row['code'],\n",
    "        'comment': row['comment']\n",
    "    })\n"
   ]
  },
  {
   "cell_type": "code",
   "execution_count": 36,
   "metadata": {},
   "outputs": [],
   "source": [
    "import json\n",
    "with open('test.json', 'w') as outfile:\n",
    "    json.dump(data, outfile)"
   ]
  },
  {
   "cell_type": "code",
   "execution_count": 37,
   "metadata": {},
   "outputs": [],
   "source": [
    "import random\n",
    "# Take a random sample of 368\n",
    "random.seed(42)\n",
    "random.shuffle(data)\n",
    "data = data[:368]\n",
    "\n",
    "with open('test_sample.json', 'w') as outfile:\n",
    "    json.dump(data, outfile)\n"
   ]
  },
  {
   "cell_type": "code",
   "execution_count": null,
   "metadata": {},
   "outputs": [],
   "source": []
  }
 ],
 "metadata": {
  "kernelspec": {
   "display_name": "Python 3",
   "language": "python",
   "name": "python3"
  },
  "language_info": {
   "codemirror_mode": {
    "name": "ipython",
    "version": 3
   },
   "file_extension": ".py",
   "mimetype": "text/x-python",
   "name": "python",
   "nbconvert_exporter": "python",
   "pygments_lexer": "ipython3",
   "version": "3.9.4"
  }
 },
 "nbformat": 4,
 "nbformat_minor": 2
}
