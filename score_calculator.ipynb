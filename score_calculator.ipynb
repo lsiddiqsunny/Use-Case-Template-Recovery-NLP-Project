{
 "cells": [
  {
   "cell_type": "code",
   "execution_count": 33,
   "metadata": {},
   "outputs": [],
   "source": [
    "import pandas as pd"
   ]
  },
  {
   "cell_type": "code",
   "execution_count": 34,
   "metadata": {},
   "outputs": [
    {
     "data": {
      "text/html": [
       "<div>\n",
       "<style scoped>\n",
       "    .dataframe tbody tr th:only-of-type {\n",
       "        vertical-align: middle;\n",
       "    }\n",
       "\n",
       "    .dataframe tbody tr th {\n",
       "        vertical-align: top;\n",
       "    }\n",
       "\n",
       "    .dataframe thead th {\n",
       "        text-align: right;\n",
       "    }\n",
       "</style>\n",
       "<table border=\"1\" class=\"dataframe\">\n",
       "  <thead>\n",
       "    <tr style=\"text-align: right;\">\n",
       "      <th></th>\n",
       "      <th>path</th>\n",
       "      <th>code</th>\n",
       "      <th>comment</th>\n",
       "      <th>solution</th>\n",
       "    </tr>\n",
       "  </thead>\n",
       "  <tbody>\n",
       "    <tr>\n",
       "      <th>0</th>\n",
       "      <td>./Dataset/funcom_test/33994080.txt</td>\n",
       "      <td>protected void addServiceIDPropertyDescriptor(...</td>\n",
       "      <td>this adds a property descriptor for the servic...</td>\n",
       "      <td>this adds a property descriptor for the servic...</td>\n",
       "    </tr>\n",
       "    <tr>\n",
       "      <th>1</th>\n",
       "      <td>./Dataset/funcom_test/45005018.txt</td>\n",
       "      <td>public Auth authenticate(MWChatClient client, ...</td>\n",
       "      <td>handles username conflicts by appending intege...</td>\n",
       "      <td>authenticate a user</td>\n",
       "    </tr>\n",
       "    <tr>\n",
       "      <th>2</th>\n",
       "      <td>./Dataset/funcom_test/50038649.txt</td>\n",
       "      <td>private void setStatsImplementation(Statistics...</td>\n",
       "      <td>since we do not have any set statistics in hib...</td>\n",
       "      <td>sets the statistics implementor</td>\n",
       "    </tr>\n",
       "    <tr>\n",
       "      <th>3</th>\n",
       "      <td>./Dataset/funcom_test/7483700.txt</td>\n",
       "      <td>public String getBody(String language) {\\n    ...</td>\n",
       "      <td>returns the body corresponding to the language</td>\n",
       "      <td>parses the xml language and returns its body</td>\n",
       "    </tr>\n",
       "    <tr>\n",
       "      <th>4</th>\n",
       "      <td>./Dataset/funcom_test/25994000.txt</td>\n",
       "      <td>public long addToken(String token, String toke...</td>\n",
       "      <td>add token for current login</td>\n",
       "      <td>adds a token to the database</td>\n",
       "    </tr>\n",
       "  </tbody>\n",
       "</table>\n",
       "</div>"
      ],
      "text/plain": [
       "                                 path  \\\n",
       "0  ./Dataset/funcom_test/33994080.txt   \n",
       "1  ./Dataset/funcom_test/45005018.txt   \n",
       "2  ./Dataset/funcom_test/50038649.txt   \n",
       "3   ./Dataset/funcom_test/7483700.txt   \n",
       "4  ./Dataset/funcom_test/25994000.txt   \n",
       "\n",
       "                                                code  \\\n",
       "0  protected void addServiceIDPropertyDescriptor(...   \n",
       "1  public Auth authenticate(MWChatClient client, ...   \n",
       "2  private void setStatsImplementation(Statistics...   \n",
       "3  public String getBody(String language) {\\n    ...   \n",
       "4  public long addToken(String token, String toke...   \n",
       "\n",
       "                                             comment  \\\n",
       "0  this adds a property descriptor for the servic...   \n",
       "1  handles username conflicts by appending intege...   \n",
       "2  since we do not have any set statistics in hib...   \n",
       "3     returns the body corresponding to the language   \n",
       "4                        add token for current login   \n",
       "\n",
       "                                            solution  \n",
       "0  this adds a property descriptor for the servic...  \n",
       "1                                authenticate a user  \n",
       "2                    sets the statistics implementor  \n",
       "3       parses the xml language and returns its body  \n",
       "4                       adds a token to the database  "
      ]
     },
     "execution_count": 34,
     "metadata": {},
     "output_type": "execute_result"
    }
   ],
   "source": [
    "df = pd.read_csv('test_output.csv')\n",
    "df.head()"
   ]
  },
  {
   "cell_type": "code",
   "execution_count": 35,
   "metadata": {},
   "outputs": [],
   "source": [
    "references = df['comment'].tolist()\n",
    "candidates = df['solution'].tolist()"
   ]
  },
  {
   "cell_type": "code",
   "execution_count": 36,
   "metadata": {},
   "outputs": [],
   "source": [
    "from evaluate import load"
   ]
  },
  {
   "cell_type": "code",
   "execution_count": 37,
   "metadata": {},
   "outputs": [],
   "source": [
    "import evaluate\n",
    "rouge = evaluate.load('rouge')"
   ]
  },
  {
   "cell_type": "code",
   "execution_count": 38,
   "metadata": {},
   "outputs": [
    {
     "name": "stdout",
     "output_type": "stream",
     "text": [
      "{'rouge1': 0.4564067582731823, 'rouge2': 0.2650413873355677, 'rougeL': 0.43551727962047876, 'rougeLsum': 0.43555821719836774}\n"
     ]
    }
   ],
   "source": [
    "results = rouge.compute(predictions=candidates, references=references)\n",
    "print(results)"
   ]
  },
  {
   "cell_type": "code",
   "execution_count": 39,
   "metadata": {},
   "outputs": [
    {
     "name": "stdout",
     "output_type": "stream",
     "text": [
      "{'bleu': 0.2399636362209177, 'precisions': [0.5194413831106213, 0.31711018921380146, 0.24007556798665292, 0.21153606577799924], 'brevity_penalty': 0.7934611210391507, 'length_ratio': 0.8121162963066553, 'translation_length': 58072, 'reference_length': 71507}\n"
     ]
    }
   ],
   "source": [
    "bleu = evaluate.load(\"bleu\")\n",
    "results = bleu.compute(predictions=candidates, references=references)\n",
    "print(results)"
   ]
  },
  {
   "cell_type": "code",
   "execution_count": 40,
   "metadata": {},
   "outputs": [
    {
     "name": "stderr",
     "output_type": "stream",
     "text": [
      "[nltk_data] Downloading package wordnet to\n",
      "[nltk_data]     /Users/lsiddiqsunny/nltk_data...\n",
      "[nltk_data]   Package wordnet is already up-to-date!\n",
      "[nltk_data] Downloading package punkt to\n",
      "[nltk_data]     /Users/lsiddiqsunny/nltk_data...\n",
      "[nltk_data]   Package punkt is already up-to-date!\n",
      "[nltk_data] Downloading package omw-1.4 to\n",
      "[nltk_data]     /Users/lsiddiqsunny/nltk_data...\n",
      "[nltk_data]   Package omw-1.4 is already up-to-date!\n"
     ]
    },
    {
     "name": "stdout",
     "output_type": "stream",
     "text": [
      "{'meteor': 0.40141727079140177}\n"
     ]
    }
   ],
   "source": [
    "meteor = evaluate.load('meteor')\n",
    "results = meteor.compute(predictions=candidates, references=references)\n",
    "\n",
    "print(results)"
   ]
  },
  {
   "cell_type": "code",
   "execution_count": 41,
   "metadata": {},
   "outputs": [],
   "source": [
    "## Evaluation for GPT-3.5"
   ]
  },
  {
   "cell_type": "code",
   "execution_count": 42,
   "metadata": {},
   "outputs": [],
   "source": [
    "import json"
   ]
  },
  {
   "cell_type": "code",
   "execution_count": 48,
   "metadata": {},
   "outputs": [],
   "source": [
    "with open('./GPT3.5_Output.json') as f:\n",
    "    data = json.load(f)\n",
    "\n"
   ]
  },
  {
   "cell_type": "code",
   "execution_count": 44,
   "metadata": {},
   "outputs": [],
   "source": [
    "references = []\n",
    "candidates = []\n",
    "\n",
    "for i in range(len(data)):\n",
    "    references.append(data[i]['comment'])\n",
    "    candidates.append(data[i]['output']['choices'][0]['message']['content'])"
   ]
  },
  {
   "cell_type": "code",
   "execution_count": 45,
   "metadata": {},
   "outputs": [
    {
     "name": "stdout",
     "output_type": "stream",
     "text": [
      "{'bleu': 0.006460525277418944, 'precisions': [0.03485093502508604, 0.0094430284544353, 0.003326455850772664, 0.001591343093570974], 'brevity_penalty': 1.0, 'length_ratio': 15.139359698681732, 'translation_length': 48234, 'reference_length': 3186}\n"
     ]
    }
   ],
   "source": [
    "bleu = evaluate.load(\"bleu\")\n",
    "results = bleu.compute(predictions=candidates, references=references)\n",
    "print(results)"
   ]
  },
  {
   "cell_type": "code",
   "execution_count": 46,
   "metadata": {},
   "outputs": [
    {
     "name": "stdout",
     "output_type": "stream",
     "text": [
      "{'rouge1': 0.09327159566777946, 'rouge2': 0.028087654884281714, 'rougeL': 0.08140462827113845, 'rougeLsum': 0.08425776117443246}\n"
     ]
    }
   ],
   "source": [
    "results = rouge.compute(predictions=candidates, references=references)\n",
    "print(results)"
   ]
  },
  {
   "cell_type": "code",
   "execution_count": 47,
   "metadata": {},
   "outputs": [
    {
     "name": "stderr",
     "output_type": "stream",
     "text": [
      "[nltk_data] Downloading package wordnet to\n",
      "[nltk_data]     /Users/lsiddiqsunny/nltk_data...\n",
      "[nltk_data]   Package wordnet is already up-to-date!\n",
      "[nltk_data] Downloading package punkt to\n",
      "[nltk_data]     /Users/lsiddiqsunny/nltk_data...\n",
      "[nltk_data]   Package punkt is already up-to-date!\n",
      "[nltk_data] Downloading package omw-1.4 to\n",
      "[nltk_data]     /Users/lsiddiqsunny/nltk_data...\n",
      "[nltk_data]   Package omw-1.4 is already up-to-date!\n"
     ]
    },
    {
     "name": "stdout",
     "output_type": "stream",
     "text": [
      "{'meteor': 0.15450093066798695}\n"
     ]
    }
   ],
   "source": [
    "meteor = evaluate.load('meteor')\n",
    "results = meteor.compute(predictions=candidates, references=references)\n",
    "\n",
    "print(results)"
   ]
  },
  {
   "cell_type": "code",
   "execution_count": null,
   "metadata": {},
   "outputs": [],
   "source": []
  }
 ],
 "metadata": {
  "kernelspec": {
   "display_name": "Python 3",
   "language": "python",
   "name": "python3"
  },
  "language_info": {
   "codemirror_mode": {
    "name": "ipython",
    "version": 3
   },
   "file_extension": ".py",
   "mimetype": "text/x-python",
   "name": "python",
   "nbconvert_exporter": "python",
   "pygments_lexer": "ipython3",
   "version": "3.9.4"
  }
 },
 "nbformat": 4,
 "nbformat_minor": 2
}
